{
  "nbformat": 4,
  "nbformat_minor": 0,
  "metadata": {
    "colab": {
      "provenance": [],
      "mount_file_id": "1I6A8irYm4ilFt9uyBlZ26WI3g7N9m78q",
      "authorship_tag": "ABX9TyPAnrkzqBN8IKX6ayAC6xk7",
      "include_colab_link": true
    },
    "kernelspec": {
      "name": "python3",
      "display_name": "Python 3"
    },
    "language_info": {
      "name": "python"
    }
  },
  "cells": [
    {
      "cell_type": "markdown",
      "metadata": {
        "id": "view-in-github",
        "colab_type": "text"
      },
      "source": [
        "<a href=\"https://colab.research.google.com/github/harshavardhansannithi/Python-projects/blob/main/ARDS%20using%20ANN.ipynb\" target=\"_parent\"><img src=\"https://colab.research.google.com/assets/colab-badge.svg\" alt=\"Open In Colab\"/></a>"
      ]
    },
    {
      "cell_type": "code",
      "source": [
        "import pandas as pd\n",
        "import numpy as np\n",
        "from sklearn.model_selection import train_test_split\n",
        "from sklearn.preprocessing import StandardScaler\n"
      ],
      "metadata": {
        "id": "CylxPUIAMHwT"
      },
      "execution_count": 2,
      "outputs": []
    },
    {
      "cell_type": "code",
      "source": [
        "data = pd.read_csv(\"/content/drive/MyDrive/ards_patient_data.csv\")  # Replace with your data file\n"
      ],
      "metadata": {
        "id": "wl9ApkeHMMqT"
      },
      "execution_count": 3,
      "outputs": []
    },
    {
      "cell_type": "code",
      "source": [
        "from tensorflow.keras.models import Sequential\n",
        "from tensorflow.keras.layers import Dense\n"
      ],
      "metadata": {
        "id": "ys8rBvFdRVyD"
      },
      "execution_count": 4,
      "outputs": []
    },
    {
      "cell_type": "code",
      "source": [
        "!pip install -q sklearn\n",
        "from sklearn.datasets import load_iris\n",
        "iris = load_iris()\n",
        "X_train, y_train = iris.data, iris.target"
      ],
      "metadata": {
        "colab": {
          "base_uri": "https://localhost:8080/"
        },
        "id": "wu_yvDEMR_-1",
        "outputId": "33fee5fc-c8bd-4507-bc1b-25f3bf4eeca3"
      },
      "execution_count": 6,
      "outputs": [
        {
          "output_type": "stream",
          "name": "stdout",
          "text": [
            "  \u001b[1;31merror\u001b[0m: \u001b[1msubprocess-exited-with-error\u001b[0m\n",
            "  \n",
            "  \u001b[31m×\u001b[0m \u001b[32mpython setup.py egg_info\u001b[0m did not run successfully.\n",
            "  \u001b[31m│\u001b[0m exit code: \u001b[1;36m1\u001b[0m\n",
            "  \u001b[31m╰─>\u001b[0m See above for output.\n",
            "  \n",
            "  \u001b[1;35mnote\u001b[0m: This error originates from a subprocess, and is likely not a problem with pip.\n",
            "  Preparing metadata (setup.py) ... \u001b[?25l\u001b[?25herror\n",
            "\u001b[1;31merror\u001b[0m: \u001b[1mmetadata-generation-failed\u001b[0m\n",
            "\n",
            "\u001b[31m×\u001b[0m Encountered error while generating package metadata.\n",
            "\u001b[31m╰─>\u001b[0m See above for output.\n",
            "\n",
            "\u001b[1;35mnote\u001b[0m: This is an issue with the package mentioned above, not pip.\n",
            "\u001b[1;36mhint\u001b[0m: See above for details.\n"
          ]
        }
      ]
    },
    {
      "cell_type": "code",
      "source": [
        "model = Sequential()\n",
        "model.add(Dense(64, activation='relu', input_shape=(X_train.shape[1],)))\n",
        "# Add more hidden layers as needed\n",
        "model.add(Dense(1, activation='sigmoid'))"
      ],
      "metadata": {
        "id": "_FGeXM10SFo5"
      },
      "execution_count": 7,
      "outputs": []
    },
    {
      "cell_type": "code",
      "source": [
        "# Train the model\n",
        "model.compile(loss='binary_crossentropy', optimizer='adam', metrics=['accuracy'])\n",
        "model.fit(X_train, y_train, epochs=10)\n",
        "\n",
        "# Evaluate the model\n",
        "loss, accuracy = model.evaluate(X_train, y_train)\n",
        "print('Loss:', loss)\n",
        "print('Accuracy:', accuracy)"
      ],
      "metadata": {
        "colab": {
          "base_uri": "https://localhost:8080/"
        },
        "id": "Edt_qPhdSMv2",
        "outputId": "6193914d-9ef5-440f-913e-3732bf3bee45"
      },
      "execution_count": 8,
      "outputs": [
        {
          "output_type": "stream",
          "name": "stdout",
          "text": [
            "Epoch 1/10\n",
            "5/5 [==============================] - 1s 5ms/step - loss: 0.7454 - accuracy: 0.3467\n",
            "Epoch 2/10\n",
            "5/5 [==============================] - 0s 3ms/step - loss: 0.3912 - accuracy: 0.6467\n",
            "Epoch 3/10\n",
            "5/5 [==============================] - 0s 3ms/step - loss: 0.1067 - accuracy: 0.6667\n",
            "Epoch 4/10\n",
            "5/5 [==============================] - 0s 3ms/step - loss: -0.1202 - accuracy: 0.6600\n",
            "Epoch 5/10\n",
            "5/5 [==============================] - 0s 3ms/step - loss: -0.3247 - accuracy: 0.4733\n",
            "Epoch 6/10\n",
            "5/5 [==============================] - 0s 3ms/step - loss: -0.4899 - accuracy: 0.3333\n",
            "Epoch 7/10\n",
            "5/5 [==============================] - 0s 3ms/step - loss: -0.6377 - accuracy: 0.3333\n",
            "Epoch 8/10\n",
            "5/5 [==============================] - 0s 3ms/step - loss: -0.7689 - accuracy: 0.3333\n",
            "Epoch 9/10\n",
            "5/5 [==============================] - 0s 3ms/step - loss: -0.8959 - accuracy: 0.3333\n",
            "Epoch 10/10\n",
            "5/5 [==============================] - 0s 3ms/step - loss: -1.0096 - accuracy: 0.3333\n",
            "5/5 [==============================] - 0s 3ms/step - loss: -1.0834 - accuracy: 0.3333\n",
            "Loss: -1.0833930969238281\n",
            "Accuracy: 0.3333333432674408\n"
          ]
        }
      ]
    },
    {
      "cell_type": "markdown",
      "source": [
        "# New Section"
      ],
      "metadata": {
        "id": "Upbaq5_SRCp2"
      }
    }
  ]
}